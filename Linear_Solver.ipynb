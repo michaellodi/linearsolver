{
 "cells": [
  {
   "cell_type": "code",
   "execution_count": 1,
   "metadata": {},
   "outputs": [
    {
     "name": "stdout",
     "output_type": "stream",
     "text": [
      "Enabling notebook extension jupyter-js-widgets/extension...\n",
      "      - Validating: \u001b[32mOK\u001b[0m\n",
      "Enabling: voila\n",
      "- Writing config: /home/michael/LinearSolverID/linearsolver/linear_env/etc/jupyter\n",
      "    - Validating...\n",
      "      voila 0.3.5 \u001b[32mOK\u001b[0m\n"
     ]
    }
   ],
   "source": [
    "#!jupyter nbextension enable --py widgetsnbextension --sys-prefix\n",
    "#!jupyter serverextension enable voila --sys-prefix"
   ]
  },
  {
   "cell_type": "code",
   "execution_count": 3,
   "metadata": {
    "cellView": "form",
    "colab": {
     "base_uri": "https://localhost:8080/",
     "height": 94,
     "referenced_widgets": [
      "b6a24a04949f415ba7bca08ebcf4b6b5",
      "74be26932fa94735a8a7f0f1dd04111b",
      "7af9ed06ff724903bfa229ebb5aebcd9",
      "e89c31c37a8344ba902eb118afa3a8c6",
      "0b5e52a218cb4fa4b45988734afd80db",
      "1541ff2c5ce747cd981dc20fd1539704",
      "2305c5ff8c2a4d3391aed089bb1c16b9",
      "d85958128a754db6addce71ebd920021"
     ]
    },
    "id": "YcpUBy5r8CK-",
    "outputId": "f37f5d7c-5e78-4505-a643-6cb40ab3e937"
   },
   "outputs": [
    {
     "data": {
      "application/vnd.jupyter.widget-view+json": {
       "model_id": "da4662984ff0470dba0dcae2ab526af2",
       "version_major": 2,
       "version_minor": 0
      },
      "text/plain": [
       "Textarea(value='', description='System of equations:', layout=Layout(height='20', width='auto'), placeholder='…"
      ]
     },
     "metadata": {},
     "output_type": "display_data"
    },
    {
     "data": {
      "application/vnd.jupyter.widget-view+json": {
       "model_id": "b11bb847e5bc4c5da383d0194d3bb0f8",
       "version_major": 2,
       "version_minor": 0
      },
      "text/plain": [
       "Button(description='SOLVE THE SYSTEM', style=ButtonStyle())"
      ]
     },
     "metadata": {},
     "output_type": "display_data"
    },
    {
     "data": {
      "application/vnd.jupyter.widget-view+json": {
       "model_id": "13125d9c0a96495fa72d2ea85df91e1d",
       "version_major": 2,
       "version_minor": 0
      },
      "text/plain": [
       "Output()"
      ]
     },
     "metadata": {},
     "output_type": "display_data"
    }
   ],
   "source": [
    "#@title Simple equation solver\n",
    "import ipywidgets as widgets\n",
    "from sympy import *\n",
    "from sympy.abc import _clash1\n",
    "\n",
    "\n",
    "def risolvi(system):\n",
    "  eqs = system.splitlines()\n",
    "  i = 0\n",
    "  while i < len(eqs):\n",
    "    if len(eqs[i]) == 0 or eqs[i].isspace():\n",
    "      del eqs[i]\n",
    "    else:\n",
    "      i += 1\n",
    "    \n",
    "  #print(eqs)\n",
    "\n",
    "  eqssym = []\n",
    "  variables = set()\n",
    "\n",
    "  for e in eqs:\n",
    "    if \"=\" not in e:\n",
    "      print(\"! Equation\", e, \"ignored:\\n\\t\\t\", \"An equation must contain an = sign\\n\\n\")\n",
    "    else:\n",
    "      try:\n",
    "        prova = \"Eq(\" + e.replace(\"=\", \",\") + \")\"\n",
    "        sympy_eq = sympify(prova, locals=_clash1)\n",
    "        eqssym.append(sympy_eq)\n",
    "        for sym in sympy_eq.free_symbols:\n",
    "          variables.add(sym)\n",
    "      except Exception as ex:\n",
    "        print(\"! Equation\", e, \"ignored:\\n\\t\\t\", ex, \"\\n\\n\")\n",
    "\n",
    "  try:\n",
    "    variables = list(variables)\n",
    "\n",
    "    solutions = list(linsolve(eqssym, variables))\n",
    "\n",
    "    #print(variables, solutions, len(variables), len(solutions[0]))\n",
    "\n",
    "    #for v, s in zip(variables, solutions[0]):\n",
    "    #  print(v,s)\n",
    "\n",
    "    if len(solutions) == 0:\n",
    "      print(\"*** The system has no solution, or the input was not a valid system ***\")\n",
    "    else:\n",
    "      solution = list(zip(variables, solutions[0]))\n",
    "      d = dict()\n",
    "      for v, s in solution:\n",
    "        d[str(v)] = s\n",
    "\n",
    "      d = sorted(d.items())\n",
    "\n",
    "      print(\"*** Solution:\")\n",
    "      for v, s in d:\n",
    "        print(v, \"=\", s, end=\"   \")\n",
    "  except Exception as ex:\n",
    "    print(\"! I was not able to solve the system:\\n\\t\\t\", ex, \"\\n\\n\")\n",
    "\n",
    "w = widgets.Textarea(\n",
    "    value='',\n",
    "    placeholder='Insert here the equations, one per line, without commas or separators...',\n",
    "    description='System of equations:',\n",
    "    disabled=False,\n",
    "    layout=widgets.Layout(height=\"20\", width=\"auto\")\n",
    "\n",
    ")\n",
    "\n",
    "def get_bigger(args):        \n",
    "    w.rows = w.value.count('\\n') + 1\n",
    "\n",
    "w.observe(get_bigger, 'value')\n",
    "w\n",
    "\n",
    "button = widgets.Button(description=\"SOLVE THE SYSTEM\")\n",
    "output = widgets.Output()\n",
    "output.clear_output()\n",
    "\n",
    "def on_button_clicked(b):\n",
    "  # Display the message within the output widget.\n",
    "  with output:\n",
    "    output.clear_output()\n",
    "    risolvi(w.value)\n",
    "\n",
    "button.on_click(on_button_clicked)\n",
    "display(w, button, output)"
   ]
  },
  {
   "cell_type": "code",
   "execution_count": null,
   "metadata": {},
   "outputs": [],
   "source": []
  }
 ],
 "metadata": {
  "colab": {
   "collapsed_sections": [],
   "include_colab_link": true,
   "name": "Linear Solver",
   "provenance": []
  },
  "kernelspec": {
   "display_name": "Python 3 (ipykernel)",
   "language": "python",
   "name": "python3"
  },
  "language_info": {
   "codemirror_mode": {
    "name": "ipython",
    "version": 3
   },
   "file_extension": ".py",
   "mimetype": "text/x-python",
   "name": "python",
   "nbconvert_exporter": "python",
   "pygments_lexer": "ipython3",
   "version": "3.9.13"
  },
  "widgets": {
   "application/vnd.jupyter.widget-state+json": {
    "0b5e52a218cb4fa4b45988734afd80db": {
     "model_module": "@jupyter-widgets/base",
     "model_module_version": "1.2.0",
     "model_name": "LayoutModel",
     "state": {
      "_model_module": "@jupyter-widgets/base",
      "_model_module_version": "1.2.0",
      "_model_name": "LayoutModel",
      "_view_count": null,
      "_view_module": "@jupyter-widgets/base",
      "_view_module_version": "1.2.0",
      "_view_name": "LayoutView",
      "align_content": null,
      "align_items": null,
      "align_self": null,
      "border": null,
      "bottom": null,
      "display": null,
      "flex": null,
      "flex_flow": null,
      "grid_area": null,
      "grid_auto_columns": null,
      "grid_auto_flow": null,
      "grid_auto_rows": null,
      "grid_column": null,
      "grid_gap": null,
      "grid_row": null,
      "grid_template_areas": null,
      "grid_template_columns": null,
      "grid_template_rows": null,
      "height": null,
      "justify_content": null,
      "justify_items": null,
      "left": null,
      "margin": null,
      "max_height": null,
      "max_width": null,
      "min_height": null,
      "min_width": null,
      "object_fit": null,
      "object_position": null,
      "order": null,
      "overflow": null,
      "overflow_x": null,
      "overflow_y": null,
      "padding": null,
      "right": null,
      "top": null,
      "visibility": null,
      "width": null
     }
    },
    "1541ff2c5ce747cd981dc20fd1539704": {
     "model_module": "@jupyter-widgets/controls",
     "model_module_version": "1.5.0",
     "model_name": "ButtonStyleModel",
     "state": {
      "_model_module": "@jupyter-widgets/controls",
      "_model_module_version": "1.5.0",
      "_model_name": "ButtonStyleModel",
      "_view_count": null,
      "_view_module": "@jupyter-widgets/base",
      "_view_module_version": "1.2.0",
      "_view_name": "StyleView",
      "button_color": null,
      "font_weight": ""
     }
    },
    "2305c5ff8c2a4d3391aed089bb1c16b9": {
     "model_module": "@jupyter-widgets/output",
     "model_module_version": "1.0.0",
     "model_name": "OutputModel",
     "state": {
      "_dom_classes": [],
      "_model_module": "@jupyter-widgets/output",
      "_model_module_version": "1.0.0",
      "_model_name": "OutputModel",
      "_view_count": null,
      "_view_module": "@jupyter-widgets/output",
      "_view_module_version": "1.0.0",
      "_view_name": "OutputView",
      "layout": "IPY_MODEL_d85958128a754db6addce71ebd920021",
      "msg_id": "",
      "outputs": []
     }
    },
    "74be26932fa94735a8a7f0f1dd04111b": {
     "model_module": "@jupyter-widgets/base",
     "model_module_version": "1.2.0",
     "model_name": "LayoutModel",
     "state": {
      "_model_module": "@jupyter-widgets/base",
      "_model_module_version": "1.2.0",
      "_model_name": "LayoutModel",
      "_view_count": null,
      "_view_module": "@jupyter-widgets/base",
      "_view_module_version": "1.2.0",
      "_view_name": "LayoutView",
      "align_content": null,
      "align_items": null,
      "align_self": null,
      "border": null,
      "bottom": null,
      "display": null,
      "flex": null,
      "flex_flow": null,
      "grid_area": null,
      "grid_auto_columns": null,
      "grid_auto_flow": null,
      "grid_auto_rows": null,
      "grid_column": null,
      "grid_gap": null,
      "grid_row": null,
      "grid_template_areas": null,
      "grid_template_columns": null,
      "grid_template_rows": null,
      "height": "20",
      "justify_content": null,
      "justify_items": null,
      "left": null,
      "margin": null,
      "max_height": null,
      "max_width": null,
      "min_height": null,
      "min_width": null,
      "object_fit": null,
      "object_position": null,
      "order": null,
      "overflow": null,
      "overflow_x": null,
      "overflow_y": null,
      "padding": null,
      "right": null,
      "top": null,
      "visibility": null,
      "width": "auto"
     }
    },
    "7af9ed06ff724903bfa229ebb5aebcd9": {
     "model_module": "@jupyter-widgets/controls",
     "model_module_version": "1.5.0",
     "model_name": "DescriptionStyleModel",
     "state": {
      "_model_module": "@jupyter-widgets/controls",
      "_model_module_version": "1.5.0",
      "_model_name": "DescriptionStyleModel",
      "_view_count": null,
      "_view_module": "@jupyter-widgets/base",
      "_view_module_version": "1.2.0",
      "_view_name": "StyleView",
      "description_width": ""
     }
    },
    "b6a24a04949f415ba7bca08ebcf4b6b5": {
     "model_module": "@jupyter-widgets/controls",
     "model_module_version": "1.5.0",
     "model_name": "TextareaModel",
     "state": {
      "_dom_classes": [],
      "_model_module": "@jupyter-widgets/controls",
      "_model_module_version": "1.5.0",
      "_model_name": "TextareaModel",
      "_view_count": null,
      "_view_module": "@jupyter-widgets/controls",
      "_view_module_version": "1.5.0",
      "_view_name": "TextareaView",
      "continuous_update": true,
      "description": "System of equations:",
      "description_tooltip": null,
      "disabled": false,
      "layout": "IPY_MODEL_74be26932fa94735a8a7f0f1dd04111b",
      "placeholder": "Type something",
      "rows": null,
      "style": "IPY_MODEL_7af9ed06ff724903bfa229ebb5aebcd9",
      "value": "Insert here the equations, one per line, without commas or separators..."
     }
    },
    "d85958128a754db6addce71ebd920021": {
     "model_module": "@jupyter-widgets/base",
     "model_module_version": "1.2.0",
     "model_name": "LayoutModel",
     "state": {
      "_model_module": "@jupyter-widgets/base",
      "_model_module_version": "1.2.0",
      "_model_name": "LayoutModel",
      "_view_count": null,
      "_view_module": "@jupyter-widgets/base",
      "_view_module_version": "1.2.0",
      "_view_name": "LayoutView",
      "align_content": null,
      "align_items": null,
      "align_self": null,
      "border": null,
      "bottom": null,
      "display": null,
      "flex": null,
      "flex_flow": null,
      "grid_area": null,
      "grid_auto_columns": null,
      "grid_auto_flow": null,
      "grid_auto_rows": null,
      "grid_column": null,
      "grid_gap": null,
      "grid_row": null,
      "grid_template_areas": null,
      "grid_template_columns": null,
      "grid_template_rows": null,
      "height": null,
      "justify_content": null,
      "justify_items": null,
      "left": null,
      "margin": null,
      "max_height": null,
      "max_width": null,
      "min_height": null,
      "min_width": null,
      "object_fit": null,
      "object_position": null,
      "order": null,
      "overflow": null,
      "overflow_x": null,
      "overflow_y": null,
      "padding": null,
      "right": null,
      "top": null,
      "visibility": null,
      "width": null
     }
    },
    "e89c31c37a8344ba902eb118afa3a8c6": {
     "model_module": "@jupyter-widgets/controls",
     "model_module_version": "1.5.0",
     "model_name": "ButtonModel",
     "state": {
      "_dom_classes": [],
      "_model_module": "@jupyter-widgets/controls",
      "_model_module_version": "1.5.0",
      "_model_name": "ButtonModel",
      "_view_count": null,
      "_view_module": "@jupyter-widgets/controls",
      "_view_module_version": "1.5.0",
      "_view_name": "ButtonView",
      "button_style": "",
      "description": "SOLVE THE SYSTEM",
      "disabled": false,
      "icon": "",
      "layout": "IPY_MODEL_0b5e52a218cb4fa4b45988734afd80db",
      "style": "IPY_MODEL_1541ff2c5ce747cd981dc20fd1539704",
      "tooltip": ""
     }
    }
   }
  }
 },
 "nbformat": 4,
 "nbformat_minor": 1
}
